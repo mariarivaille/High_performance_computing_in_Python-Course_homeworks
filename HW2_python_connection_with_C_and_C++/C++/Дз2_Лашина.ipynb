{
  "cells": [
    {
      "cell_type": "markdown",
      "id": "fd38da4b-c1a0-435c-b4ef-f53409aa1b55",
      "metadata": {
        "id": "fd38da4b-c1a0-435c-b4ef-f53409aa1b55"
      },
      "source": [
        "## Домашнее задание 2\n",
        "\n",
        "### связь Python с программами на C/C++"
      ]
    },
    {
      "cell_type": "markdown",
      "id": "b732f8c0-2e02-4e65-8e77-393d973d1542",
      "metadata": {
        "id": "b732f8c0-2e02-4e65-8e77-393d973d1542"
      },
      "source": [
        "1. Реализовать на языке C/C++ классические операции перемножения квадратных матриц и умножения матрицы на вектор (15%)"
      ]
    },
    {
      "cell_type": "code",
      "source": [
        "%%writefile matrix_operations.c\n",
        "\n",
        "#include \"main\".h\"\n",
        "\n",
        "void matrix_mult(double** A, double** B, double** C, int n) {\n",
        "    for (int i = 0; i < n; i++) {\n",
        "        for (int j = 0; j < n; j++) {\n",
        "            C[i][j] = 0.0;\n",
        "            for (int k = 0; k < n; k++) {\n",
        "                C[i][j] += A[i][k] * B[k][j];\n",
        "            }\n",
        "        }\n",
        "    }\n",
        "}\n",
        "\n",
        "void matrix_vector_mult(double** A, double* x, double* y, int n) {\n",
        "    for (int i = 0; i < n; i++) {\n",
        "        y[i] = 0.0;\n",
        "        for (int j = 0; j < n; j++) {\n",
        "            y[i] += A[i][j] * x[j];\n",
        "        }\n",
        "    }\n",
        "}"
      ],
      "metadata": {
        "colab": {
          "base_uri": "https://localhost:8080/"
        },
        "id": "rvSErzrYlnpb",
        "outputId": "64f50e16-cf1e-485f-da1f-84bb248ab5a8"
      },
      "id": "rvSErzrYlnpb",
      "execution_count": 7,
      "outputs": [
        {
          "output_type": "stream",
          "name": "stdout",
          "text": [
            "Overwriting matrix_operations.c\n"
          ]
        }
      ]
    },
    {
      "cell_type": "markdown",
      "id": "f4433714-9fea-4011-b476-133bb0703bdb",
      "metadata": {
        "id": "f4433714-9fea-4011-b476-133bb0703bdb"
      },
      "source": [
        "2. Разделить программу на несколько модулей и провести сборку через статическую линковку (25%)"
      ]
    },
    {
      "cell_type": "code",
      "source": [
        "!gcc -c main.c\n",
        "!gcc -c matrix_operations.c\n",
        "!gcc -c utils.c\n",
        "!gcc main.o utils.o matrix_operations.o -o matrix_operations.exe"
      ],
      "metadata": {
        "id": "iO8n4mvsU_01"
      },
      "id": "iO8n4mvsU_01",
      "execution_count": 1,
      "outputs": []
    },
    {
      "cell_type": "code",
      "source": [
        "!./matrix_operations.exe 3"
      ],
      "metadata": {
        "id": "_Yqkj5kUc8b3",
        "colab": {
          "base_uri": "https://localhost:8080/"
        },
        "outputId": "831e9c6a-9903-41a8-969f-36180549d7f7"
      },
      "id": "_Yqkj5kUc8b3",
      "execution_count": 2,
      "outputs": [
        {
          "output_type": "stream",
          "name": "stdout",
          "text": [
            "Matrices multiplication is done!\n",
            "Matrix and vector multiplication is done!\n"
          ]
        }
      ]
    },
    {
      "cell_type": "code",
      "source": [
        "!rm *.o *.exe"
      ],
      "metadata": {
        "id": "iNz7iRV5eIKP"
      },
      "id": "iNz7iRV5eIKP",
      "execution_count": 3,
      "outputs": []
    },
    {
      "cell_type": "markdown",
      "id": "2147d411-a7d9-437b-9571-b8bf0247581d",
      "metadata": {
        "id": "2147d411-a7d9-437b-9571-b8bf0247581d"
      },
      "source": [
        "3. Подготовьте две сборки с флагами -g и -O3 и измерьте времена выполнения операций с N = 512, 1024, . . ., 4096 (20%)"
      ]
    },
    {
      "cell_type": "code",
      "source": [
        "!gcc -c main.c -g\n",
        "!gcc -c matrix_operations.c -g\n",
        "!gcc -c utils.c -g\n",
        "!gcc main.o utils.o matrix_operations.o -o matrix_operations.exe"
      ],
      "metadata": {
        "id": "vdLcySewe9Ce"
      },
      "id": "vdLcySewe9Ce",
      "execution_count": 4,
      "outputs": []
    },
    {
      "cell_type": "code",
      "source": [
        "%%timeit\n",
        "!./matrix_operations.exe 512"
      ],
      "metadata": {
        "colab": {
          "base_uri": "https://localhost:8080/"
        },
        "id": "sQ8cCABslJPZ",
        "outputId": "62698122-e054-4955-b1bd-ee93eb05c232",
        "collapsed": true
      },
      "id": "sQ8cCABslJPZ",
      "execution_count": 5,
      "outputs": [
        {
          "output_type": "stream",
          "name": "stdout",
          "text": [
            "Matrices multiplication is done!\n",
            "Matrix and vector multiplication is done!\n",
            "Matrices multiplication is done!\n",
            "Matrix and vector multiplication is done!\n",
            "Matrices multiplication is done!\n",
            "Matrix and vector multiplication is done!\n",
            "Matrices multiplication is done!\n",
            "Matrix and vector multiplication is done!\n",
            "Matrices multiplication is done!\n",
            "Matrix and vector multiplication is done!\n",
            "Matrices multiplication is done!\n",
            "Matrix and vector multiplication is done!\n",
            "Matrices multiplication is done!\n",
            "Matrix and vector multiplication is done!\n",
            "Matrices multiplication is done!\n",
            "Matrix and vector multiplication is done!\n",
            "1.62 s ± 255 ms per loop (mean ± std. dev. of 7 runs, 1 loop each)\n"
          ]
        }
      ]
    },
    {
      "cell_type": "code",
      "source": [
        "%%timeit\n",
        "!./matrix_operations.exe 1024"
      ],
      "metadata": {
        "colab": {
          "base_uri": "https://localhost:8080/"
        },
        "id": "f5gbD2H3lSc6",
        "outputId": "486a645e-328f-4810-d1cc-e5a98c3793f8"
      },
      "id": "f5gbD2H3lSc6",
      "execution_count": 6,
      "outputs": [
        {
          "output_type": "stream",
          "name": "stdout",
          "text": [
            "Matrices multiplication is done!\n",
            "Matrix and vector multiplication is done!\n",
            "Matrices multiplication is done!\n",
            "Matrix and vector multiplication is done!\n",
            "Matrices multiplication is done!\n",
            "Matrix and vector multiplication is done!\n",
            "Matrices multiplication is done!\n",
            "Matrix and vector multiplication is done!\n",
            "Matrices multiplication is done!\n",
            "Matrix and vector multiplication is done!\n",
            "Matrices multiplication is done!\n",
            "Matrix and vector multiplication is done!\n",
            "Matrices multiplication is done!\n",
            "Matrix and vector multiplication is done!\n",
            "Matrices multiplication is done!\n",
            "Matrix and vector multiplication is done!\n",
            "19.9 s ± 222 ms per loop (mean ± std. dev. of 7 runs, 1 loop each)\n"
          ]
        }
      ]
    },
    {
      "cell_type": "code",
      "source": [
        "%%timeit\n",
        "!./matrix_operations.exe 2048"
      ],
      "metadata": {
        "colab": {
          "base_uri": "https://localhost:8080/"
        },
        "id": "XAzARPMGlfiH",
        "outputId": "6a8ff19b-b6e3-4837-8c30-01772a7a3016"
      },
      "id": "XAzARPMGlfiH",
      "execution_count": 7,
      "outputs": [
        {
          "output_type": "stream",
          "name": "stdout",
          "text": [
            "Matrices multiplication is done!\n",
            "Matrix and vector multiplication is done!\n",
            "Matrices multiplication is done!\n",
            "Matrix and vector multiplication is done!\n",
            "Matrices multiplication is done!\n",
            "Matrix and vector multiplication is done!\n",
            "Matrices multiplication is done!\n",
            "Matrix and vector multiplication is done!\n",
            "Matrices multiplication is done!\n",
            "Matrix and vector multiplication is done!\n",
            "Matrices multiplication is done!\n",
            "Matrix and vector multiplication is done!\n",
            "Matrices multiplication is done!\n",
            "Matrix and vector multiplication is done!\n",
            "Matrices multiplication is done!\n",
            "Matrix and vector multiplication is done!\n",
            "3min 21s ± 423 ms per loop (mean ± std. dev. of 7 runs, 1 loop each)\n"
          ]
        }
      ]
    },
    {
      "cell_type": "code",
      "source": [
        "%%timeit\n",
        "!./matrix_operations.exe 4096"
      ],
      "metadata": {
        "id": "eoMkFTwKlnAV"
      },
      "id": "eoMkFTwKlnAV",
      "execution_count": null,
      "outputs": []
    },
    {
      "cell_type": "code",
      "source": [
        "!rm *.o *.exe"
      ],
      "metadata": {
        "id": "Vq_0PvUne8wq"
      },
      "id": "Vq_0PvUne8wq",
      "execution_count": 8,
      "outputs": []
    },
    {
      "cell_type": "code",
      "source": [
        "!gcc -c main.c -O3\n",
        "!gcc -c matrix_operations.c -O3\n",
        "!gcc -c utils.c -O3\n",
        "!gcc main.o utils.o matrix_operations.o -o matrix_operations.exe"
      ],
      "metadata": {
        "id": "axV83Zlql0yM"
      },
      "id": "axV83Zlql0yM",
      "execution_count": 9,
      "outputs": []
    },
    {
      "cell_type": "code",
      "source": [
        "%%timeit\n",
        "!./matrix_operations.exe 512"
      ],
      "metadata": {
        "colab": {
          "base_uri": "https://localhost:8080/"
        },
        "id": "nuO2Qvytl0lA",
        "outputId": "8c5a069e-8789-4f7c-cee6-5c2e5aa55971"
      },
      "id": "nuO2Qvytl0lA",
      "execution_count": 10,
      "outputs": [
        {
          "output_type": "stream",
          "name": "stdout",
          "text": [
            "Matrices multiplication is done!\n",
            "Matrix and vector multiplication is done!\n",
            "Matrices multiplication is done!\n",
            "Matrix and vector multiplication is done!\n",
            "Matrices multiplication is done!\n",
            "Matrix and vector multiplication is done!\n",
            "Matrices multiplication is done!\n",
            "Matrix and vector multiplication is done!\n",
            "Matrices multiplication is done!\n",
            "Matrix and vector multiplication is done!\n",
            "Matrices multiplication is done!\n",
            "Matrix and vector multiplication is done!\n",
            "Matrices multiplication is done!\n",
            "Matrix and vector multiplication is done!\n",
            "Matrices multiplication is done!\n",
            "Matrix and vector multiplication is done!\n",
            "377 ms ± 45.8 ms per loop (mean ± std. dev. of 7 runs, 1 loop each)\n"
          ]
        }
      ]
    },
    {
      "cell_type": "code",
      "source": [
        "%%timeit\n",
        "!./matrix_operations.exe 1024"
      ],
      "metadata": {
        "colab": {
          "base_uri": "https://localhost:8080/"
        },
        "id": "VvuAm8Kpl0Xa",
        "outputId": "c6a70ffc-8a22-434c-b7ab-db14ef6e7cf2"
      },
      "id": "VvuAm8Kpl0Xa",
      "execution_count": 11,
      "outputs": [
        {
          "output_type": "stream",
          "name": "stdout",
          "text": [
            "Matrices multiplication is done!\n",
            "Matrix and vector multiplication is done!\n",
            "Matrices multiplication is done!\n",
            "Matrix and vector multiplication is done!\n",
            "Matrices multiplication is done!\n",
            "Matrix and vector multiplication is done!\n",
            "Matrices multiplication is done!\n",
            "Matrix and vector multiplication is done!\n",
            "Matrices multiplication is done!\n",
            "Matrix and vector multiplication is done!\n",
            "Matrices multiplication is done!\n",
            "Matrix and vector multiplication is done!\n",
            "Matrices multiplication is done!\n",
            "Matrix and vector multiplication is done!\n",
            "Matrices multiplication is done!\n",
            "Matrix and vector multiplication is done!\n",
            "4.1 s ± 323 ms per loop (mean ± std. dev. of 7 runs, 1 loop each)\n"
          ]
        }
      ]
    },
    {
      "cell_type": "code",
      "source": [
        "%%timeit\n",
        "!./matrix_operations.exe 2048"
      ],
      "metadata": {
        "colab": {
          "base_uri": "https://localhost:8080/"
        },
        "id": "bGI-k86jl0L6",
        "outputId": "17b83996-42b8-4cc5-8da2-7351fd89a0f7"
      },
      "id": "bGI-k86jl0L6",
      "execution_count": 12,
      "outputs": [
        {
          "output_type": "stream",
          "name": "stdout",
          "text": [
            "Matrices multiplication is done!\n",
            "Matrix and vector multiplication is done!\n",
            "Matrices multiplication is done!\n",
            "Matrix and vector multiplication is done!\n",
            "Matrices multiplication is done!\n",
            "Matrix and vector multiplication is done!\n",
            "Matrices multiplication is done!\n",
            "Matrix and vector multiplication is done!\n",
            "Matrices multiplication is done!\n",
            "Matrix and vector multiplication is done!\n",
            "Matrices multiplication is done!\n",
            "Matrix and vector multiplication is done!\n",
            "Matrices multiplication is done!\n",
            "Matrix and vector multiplication is done!\n",
            "Matrices multiplication is done!\n",
            "Matrix and vector multiplication is done!\n",
            "1min 43s ± 920 ms per loop (mean ± std. dev. of 7 runs, 1 loop each)\n"
          ]
        }
      ]
    },
    {
      "cell_type": "code",
      "source": [
        "%%timeit\n",
        "!./matrix_operations.exe 4096"
      ],
      "metadata": {
        "id": "O03hZJ5WmGGm"
      },
      "id": "O03hZJ5WmGGm",
      "execution_count": null,
      "outputs": []
    },
    {
      "cell_type": "code",
      "source": [
        "!rm *.o *.exe *.so"
      ],
      "metadata": {
        "id": "8o3K7lYhmS-R"
      },
      "id": "8o3K7lYhmS-R",
      "execution_count": 13,
      "outputs": []
    },
    {
      "cell_type": "markdown",
      "id": "7c234d8a-dc1b-48c8-b038-b4c61725cb51",
      "metadata": {
        "id": "7c234d8a-dc1b-48c8-b038-b4c61725cb51"
      },
      "source": [
        "4. Выполните вызов процедуры из Python через Ctypes/Cython/PyBind11 и измерьте времена (40%)"
      ]
    },
    {
      "cell_type": "code",
      "source": [
        "!gcc -fopenmp -O3 -shared -o libMatrOper.so run.c matrix_operations.c utils.c"
      ],
      "metadata": {
        "id": "vqPhURxK21d0"
      },
      "id": "vqPhURxK21d0",
      "execution_count": 1,
      "outputs": []
    },
    {
      "cell_type": "code",
      "execution_count": 2,
      "id": "09283a6c-92cb-410a-86c3-d5470d6cf954",
      "metadata": {
        "id": "09283a6c-92cb-410a-86c3-d5470d6cf954",
        "colab": {
          "base_uri": "https://localhost:8080/"
        },
        "outputId": "7654d098-5e55-4bbd-fc30-7558e1f007b3"
      },
      "outputs": [
        {
          "output_type": "stream",
          "name": "stdout",
          "text": [
            "None\n"
          ]
        }
      ],
      "source": [
        "import ctypes\n",
        "clibMatrOper = ctypes.CDLL('./libMatrOper.so')\n",
        "clibMatrOper.do_matrix_operations.restype = None\n",
        "n = 2\n",
        "res = clibMatrOper.do_matrix_operations(ctypes.c_int(n))\n",
        "print(res)"
      ]
    },
    {
      "cell_type": "code",
      "source": [
        "%%timeit\n",
        "n = 512\n",
        "res = clibMatrOper.do_matrix_operations(ctypes.c_int(n))"
      ],
      "metadata": {
        "id": "-urnOccHTrpT",
        "outputId": "775c1e2b-112e-41c1-c49c-146aa21819bb",
        "colab": {
          "base_uri": "https://localhost:8080/"
        }
      },
      "id": "-urnOccHTrpT",
      "execution_count": 4,
      "outputs": [
        {
          "output_type": "stream",
          "name": "stdout",
          "text": [
            "231 ms ± 5.49 ms per loop (mean ± std. dev. of 7 runs, 1 loop each)\n"
          ]
        }
      ]
    },
    {
      "cell_type": "code",
      "source": [
        "%%timeit\n",
        "n = 1024\n",
        "res = clibMatrOper.do_matrix_operations(ctypes.c_int(n))"
      ],
      "metadata": {
        "id": "VGnhmhR5TrZ9",
        "outputId": "923d6353-3c70-4b29-f156-7a47b6de61e8",
        "colab": {
          "base_uri": "https://localhost:8080/"
        }
      },
      "id": "VGnhmhR5TrZ9",
      "execution_count": 5,
      "outputs": [
        {
          "output_type": "stream",
          "name": "stdout",
          "text": [
            "4.05 s ± 388 ms per loop (mean ± std. dev. of 7 runs, 1 loop each)\n"
          ]
        }
      ]
    },
    {
      "cell_type": "code",
      "source": [
        "%%timeit\n",
        "n = 2048\n",
        "res = clibMatrOper.do_matrix_operations(ctypes.c_int(n))"
      ],
      "metadata": {
        "id": "uHW0-z0FTrPU",
        "outputId": "2caf70f9-3fb7-47a0-de92-b43487358d86",
        "colab": {
          "base_uri": "https://localhost:8080/"
        }
      },
      "id": "uHW0-z0FTrPU",
      "execution_count": 6,
      "outputs": [
        {
          "output_type": "stream",
          "name": "stdout",
          "text": [
            "1min 43s ± 746 ms per loop (mean ± std. dev. of 7 runs, 1 loop each)\n"
          ]
        }
      ]
    },
    {
      "cell_type": "code",
      "source": [
        "%%timeit\n",
        "n = 4096\n",
        "res = clibMatrOper.do_matrix_operations(ctypes.c_int(n))"
      ],
      "metadata": {
        "id": "f7I6jP0pTrDN"
      },
      "id": "f7I6jP0pTrDN",
      "execution_count": null,
      "outputs": []
    },
    {
      "cell_type": "markdown",
      "id": "ec657595-8781-4d82-bf05-5c66df1f2f10",
      "metadata": {
        "id": "ec657595-8781-4d82-bf05-5c66df1f2f10"
      },
      "source": [
        "БОНУСЫ:\n",
        "\n",
        "1. Дополнительные баллы за использование функций BLAS/cBLAS/openBLAS;\n",
        "2. Дополнительные баллы за вызов теста LINPACK на вашем компьютере;\n",
        "3. Супербонус: реализовать метод Штрассена перемножения квадратных матриц"
      ]
    },
    {
      "cell_type": "code",
      "execution_count": null,
      "id": "96d6f952-62e0-4c1f-a4a6-97210a4322e8",
      "metadata": {
        "id": "96d6f952-62e0-4c1f-a4a6-97210a4322e8"
      },
      "outputs": [],
      "source": []
    }
  ],
  "metadata": {
    "kernelspec": {
      "display_name": "Python 3 (ipykernel)",
      "language": "python",
      "name": "python3"
    },
    "language_info": {
      "codemirror_mode": {
        "name": "ipython",
        "version": 3
      },
      "file_extension": ".py",
      "mimetype": "text/x-python",
      "name": "python",
      "nbconvert_exporter": "python",
      "pygments_lexer": "ipython3",
      "version": "3.13.5"
    },
    "colab": {
      "provenance": []
    }
  },
  "nbformat": 4,
  "nbformat_minor": 5
}